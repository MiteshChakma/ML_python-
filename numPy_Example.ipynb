{
  "nbformat": 4,
  "nbformat_minor": 0,
  "metadata": {
    "colab": {
      "name": "numPy_Example.ipynb",
      "version": "0.3.2",
      "provenance": []
    },
    "kernelspec": {
      "name": "python3",
      "display_name": "Python 3"
    }
  },
  "cells": [
    {
      "cell_type": "code",
      "metadata": {
        "id": "g2MPPMJReyki",
        "colab_type": "code",
        "colab": {
          "base_uri": "https://localhost:8080/",
          "height": 34
        },
        "outputId": "1d9d16c4-ce4c-494a-caad-9ea4a9ed3c01"
      },
      "source": [
        "#import Numpy librarry \n",
        "\n",
        "import numpy as np \n",
        "\n",
        "x= np.array([1,2,3])\n",
        "\n",
        "#Output\n",
        "\n",
        "print (x)"
      ],
      "execution_count": 2,
      "outputs": [
        {
          "output_type": "stream",
          "text": [
            "[1 2 3]\n"
          ],
          "name": "stdout"
        }
      ]
    },
    {
      "cell_type": "code",
      "metadata": {
        "id": "i-8kyf_pfHlw",
        "colab_type": "code",
        "colab": {
          "base_uri": "https://localhost:8080/",
          "height": 34
        },
        "outputId": "e2c006fe-8fee-40d2-c49d-9d1243ec1ab6"
      },
      "source": [
        "#numpy arange \n",
        "\n",
        "y = np.arange(10)\n",
        "print (y)"
      ],
      "execution_count": 3,
      "outputs": [
        {
          "output_type": "stream",
          "text": [
            "[0 1 2 3 4 5 6 7 8 9]\n"
          ],
          "name": "stdout"
        }
      ]
    },
    {
      "cell_type": "code",
      "metadata": {
        "id": "kpPDlxmqfZHP",
        "colab_type": "code",
        "colab": {}
      },
      "source": [
        "#lets create an array with shape [3,4]\n",
        "\n",
        "a= np.array([[1,2,3,4],[5,6,7,8],[9,10,11,12]]) \n",
        "\n",
        "#slicing array \n",
        "\n",
        "b = a[:2,1:3]\n",
        "c = a[:2]\n",
        "\n"
      ],
      "execution_count": 0,
      "outputs": []
    },
    {
      "cell_type": "code",
      "metadata": {
        "id": "_DX0UdHmfx79",
        "colab_type": "code",
        "colab": {
          "base_uri": "https://localhost:8080/",
          "height": 51
        },
        "outputId": "2302e9ea-9f15-4ee7-e48a-10abcb6a0ff9"
      },
      "source": [
        "print (b)"
      ],
      "execution_count": 15,
      "outputs": [
        {
          "output_type": "stream",
          "text": [
            "[[2 3]\n",
            " [6 7]]\n"
          ],
          "name": "stdout"
        }
      ]
    },
    {
      "cell_type": "code",
      "metadata": {
        "id": "av8uXm-rgFks",
        "colab_type": "code",
        "colab": {
          "base_uri": "https://localhost:8080/",
          "height": 51
        },
        "outputId": "5471cd3c-942f-4abe-b247-18909d78607e"
      },
      "source": [
        "print (c)"
      ],
      "execution_count": 7,
      "outputs": [
        {
          "output_type": "stream",
          "text": [
            "[[1 2 3 4]\n",
            " [5 6 7 8]]\n"
          ],
          "name": "stdout"
        }
      ]
    },
    {
      "cell_type": "code",
      "metadata": {
        "id": "g3gzXU2sgJQ7",
        "colab_type": "code",
        "colab": {}
      },
      "source": [
        ""
      ],
      "execution_count": 0,
      "outputs": []
    }
  ]
}